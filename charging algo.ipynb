{
 "cells": [
  {
   "cell_type": "markdown",
   "id": "f0fe8d04-7c3d-4265-9f26-e02da362147c",
   "metadata": {},
   "source": [
    "### CC -CV ALGO"
   ]
  },
  {
   "cell_type": "code",
   "execution_count": null,
   "id": "abcce17d-1faa-4463-8dc2-56101e22b80a",
   "metadata": {},
   "outputs": [],
   "source": [
    "def cc_cv_charge(battery_voltage, max_voltage, max_current):\n",
    "    current = max_current\n",
    "    while battery_voltage < max_voltage:\n",
    "        battery_voltage += current * 0.01  # Simulating voltage increase per time unit\n",
    "        current = max(max_current * (1 - (battery_voltage / max_voltage)), 0.1)\n",
    "    return battery_voltage\n"
   ]
  },
  {
   "cell_type": "markdown",
   "id": "27e0341b-f160-4c32-b8e0-10ca0d2d47d2",
   "metadata": {},
   "source": [
    "### Pulse Charging Algorithm"
   ]
  },
  {
   "cell_type": "code",
   "execution_count": null,
   "id": "21dbb6d5-130e-4fd9-94a5-5c8e2141668e",
   "metadata": {},
   "outputs": [],
   "source": [
    "import time\n",
    "\n",
    "def pulse_charge(battery_voltage, target_voltage, pulse_current, rest_time=1):\n",
    "    while battery_voltage < target_voltage:\n",
    "        battery_voltage += pulse_current * 0.01  # Simulate pulse effect\n",
    "        time.sleep(rest_time)  # Rest period\n",
    "    return battery_voltage\n"
   ]
  },
  {
   "cell_type": "markdown",
   "id": "2f78263a-a1ba-41ec-ba43-bbeb2c3f5602",
   "metadata": {},
   "source": [
    "### State of Charge (SoC) Management with Fuzzy Logic\n"
   ]
  },
  {
   "cell_type": "code",
   "execution_count": null,
   "id": "052daadd-3492-4d56-855d-239f9fe251df",
   "metadata": {},
   "outputs": [],
   "source": [
    "from skfuzzy import control as ctrl\n",
    "\n",
    "soc = ctrl.Antecedent(np.arange(0, 101, 1), 'SoC')\n",
    "power_output = ctrl.Consequent(np.arange(0, 101, 1), 'power_output')\n",
    "\n",
    "soc['low'] = fuzz.trimf(soc.universe, [0, 0, 50])\n",
    "soc['medium'] = fuzz.trimf(soc.universe, [25, 50, 75])\n",
    "soc['high'] = fuzz.trimf(soc.universe, [50, 100, 100])\n",
    "\n",
    "power_output['low'] = fuzz.trimf(power_output.universe, [0, 0, 50])\n",
    "power_output['medium'] = fuzz.trimf(power_output.universe, [25, 50, 75])\n",
    "power_output['high'] = fuzz.trimf(power_output.universe, [50, 100, 100])\n",
    "\n",
    "# Define rules\n",
    "rule1 = ctrl.Rule(soc['low'], power_output['low'])\n",
    "rule2 = ctrl.Rule(soc['medium'], power_output['medium'])\n",
    "rule3 = ctrl.Rule(soc['high'], power_output['high'])\n",
    "\n",
    "charging_ctrl = ctrl.ControlSystem([rule1, rule2, rule3])\n",
    "charging = ctrl.ControlSystemSimulation(charging_ctrl)\n"
   ]
  },
  {
   "cell_type": "code",
   "execution_count": null,
   "id": "b96258d7-63f8-41c1-b047-b46cc52bd1c9",
   "metadata": {},
   "outputs": [],
   "source": []
  }
 ],
 "metadata": {
  "kernelspec": {
   "display_name": "Python 3 (ipykernel)",
   "language": "python",
   "name": "python3"
  },
  "language_info": {
   "codemirror_mode": {
    "name": "ipython",
    "version": 3
   },
   "file_extension": ".py",
   "mimetype": "text/x-python",
   "name": "python",
   "nbconvert_exporter": "python",
   "pygments_lexer": "ipython3",
   "version": "3.12.4"
  }
 },
 "nbformat": 4,
 "nbformat_minor": 5
}
